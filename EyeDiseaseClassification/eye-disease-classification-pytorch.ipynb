{
 "cells": [
  {
   "cell_type": "markdown",
   "source": [
    "# Eye Disease Classification\n",
    "\n",
    "### Dataset (Folders are labels)\n",
    "\n",
    "dataset (main data-set folder)\n",
    "   ├───cataract\n",
    "   ├───diabetic_retinopathy\n",
    "   ├───glaucoma\n",
    "   └───normal (healthy)\n"
   ],
   "metadata": {
    "collapsed": false
   },
   "id": "ff8c2093c4d4a46a"
  },
  {
   "cell_type": "markdown",
   "source": [
    "# Table of Contents"
   ],
   "metadata": {
    "collapsed": false
   },
   "id": "54423e9d0dc96e17"
  },
  {
   "cell_type": "code",
   "outputs": [
    {
     "name": "stdout",
     "output_type": "stream",
     "text": [
      "Requirement already satisfied: pip in c:\\github\\eye-disease-classification\\eyediseaseclassification\\venv\\lib\\site-packages (23.3.2)\n",
      "Requirement already satisfied: numpy==1.26.3 in c:\\github\\eye-disease-classification\\eyediseaseclassification\\venv\\lib\\site-packages (1.26.3)\n",
      "Requirement already satisfied: matplotlib==3.8.2 in c:\\github\\eye-disease-classification\\eyediseaseclassification\\venv\\lib\\site-packages (3.8.2)\n",
      "Requirement already satisfied: contourpy>=1.0.1 in c:\\github\\eye-disease-classification\\eyediseaseclassification\\venv\\lib\\site-packages (from matplotlib==3.8.2) (1.2.0)\n",
      "Requirement already satisfied: cycler>=0.10 in c:\\github\\eye-disease-classification\\eyediseaseclassification\\venv\\lib\\site-packages (from matplotlib==3.8.2) (0.12.1)\n",
      "Requirement already satisfied: fonttools>=4.22.0 in c:\\github\\eye-disease-classification\\eyediseaseclassification\\venv\\lib\\site-packages (from matplotlib==3.8.2) (4.47.0)\n",
      "Requirement already satisfied: kiwisolver>=1.3.1 in c:\\github\\eye-disease-classification\\eyediseaseclassification\\venv\\lib\\site-packages (from matplotlib==3.8.2) (1.4.5)\n",
      "Requirement already satisfied: numpy<2,>=1.21 in c:\\github\\eye-disease-classification\\eyediseaseclassification\\venv\\lib\\site-packages (from matplotlib==3.8.2) (1.26.3)\n",
      "Requirement already satisfied: packaging>=20.0 in c:\\github\\eye-disease-classification\\eyediseaseclassification\\venv\\lib\\site-packages (from matplotlib==3.8.2) (23.2)\n",
      "Requirement already satisfied: pillow>=8 in c:\\github\\eye-disease-classification\\eyediseaseclassification\\venv\\lib\\site-packages (from matplotlib==3.8.2) (10.2.0)\n",
      "Requirement already satisfied: pyparsing>=2.3.1 in c:\\github\\eye-disease-classification\\eyediseaseclassification\\venv\\lib\\site-packages (from matplotlib==3.8.2) (3.1.1)\n",
      "Requirement already satisfied: python-dateutil>=2.7 in c:\\github\\eye-disease-classification\\eyediseaseclassification\\venv\\lib\\site-packages (from matplotlib==3.8.2) (2.8.2)\n",
      "Requirement already satisfied: six>=1.5 in c:\\github\\eye-disease-classification\\eyediseaseclassification\\venv\\lib\\site-packages (from python-dateutil>=2.7->matplotlib==3.8.2) (1.16.0)\n",
      "Requirement already satisfied: seaborn==0.13.1 in c:\\github\\eye-disease-classification\\eyediseaseclassification\\venv\\lib\\site-packages (0.13.1)\n",
      "Requirement already satisfied: numpy!=1.24.0,>=1.20 in c:\\github\\eye-disease-classification\\eyediseaseclassification\\venv\\lib\\site-packages (from seaborn==0.13.1) (1.26.3)\n",
      "Requirement already satisfied: pandas>=1.2 in c:\\github\\eye-disease-classification\\eyediseaseclassification\\venv\\lib\\site-packages (from seaborn==0.13.1) (2.1.4)\n",
      "Requirement already satisfied: matplotlib!=3.6.1,>=3.4 in c:\\github\\eye-disease-classification\\eyediseaseclassification\\venv\\lib\\site-packages (from seaborn==0.13.1) (3.8.2)\n",
      "Requirement already satisfied: contourpy>=1.0.1 in c:\\github\\eye-disease-classification\\eyediseaseclassification\\venv\\lib\\site-packages (from matplotlib!=3.6.1,>=3.4->seaborn==0.13.1) (1.2.0)\n",
      "Requirement already satisfied: cycler>=0.10 in c:\\github\\eye-disease-classification\\eyediseaseclassification\\venv\\lib\\site-packages (from matplotlib!=3.6.1,>=3.4->seaborn==0.13.1) (0.12.1)\n",
      "Requirement already satisfied: fonttools>=4.22.0 in c:\\github\\eye-disease-classification\\eyediseaseclassification\\venv\\lib\\site-packages (from matplotlib!=3.6.1,>=3.4->seaborn==0.13.1) (4.47.0)\n",
      "Requirement already satisfied: kiwisolver>=1.3.1 in c:\\github\\eye-disease-classification\\eyediseaseclassification\\venv\\lib\\site-packages (from matplotlib!=3.6.1,>=3.4->seaborn==0.13.1) (1.4.5)\n",
      "Requirement already satisfied: packaging>=20.0 in c:\\github\\eye-disease-classification\\eyediseaseclassification\\venv\\lib\\site-packages (from matplotlib!=3.6.1,>=3.4->seaborn==0.13.1) (23.2)\n",
      "Requirement already satisfied: pillow>=8 in c:\\github\\eye-disease-classification\\eyediseaseclassification\\venv\\lib\\site-packages (from matplotlib!=3.6.1,>=3.4->seaborn==0.13.1) (10.2.0)\n",
      "Requirement already satisfied: pyparsing>=2.3.1 in c:\\github\\eye-disease-classification\\eyediseaseclassification\\venv\\lib\\site-packages (from matplotlib!=3.6.1,>=3.4->seaborn==0.13.1) (3.1.1)\n",
      "Requirement already satisfied: python-dateutil>=2.7 in c:\\github\\eye-disease-classification\\eyediseaseclassification\\venv\\lib\\site-packages (from matplotlib!=3.6.1,>=3.4->seaborn==0.13.1) (2.8.2)\n",
      "Requirement already satisfied: pytz>=2020.1 in c:\\github\\eye-disease-classification\\eyediseaseclassification\\venv\\lib\\site-packages (from pandas>=1.2->seaborn==0.13.1) (2023.3.post1)\n",
      "Requirement already satisfied: tzdata>=2022.1 in c:\\github\\eye-disease-classification\\eyediseaseclassification\\venv\\lib\\site-packages (from pandas>=1.2->seaborn==0.13.1) (2023.4)\n",
      "Requirement already satisfied: six>=1.5 in c:\\github\\eye-disease-classification\\eyediseaseclassification\\venv\\lib\\site-packages (from python-dateutil>=2.7->matplotlib!=3.6.1,>=3.4->seaborn==0.13.1) (1.16.0)\n",
      "Requirement already satisfied: polars==0.20.3 in c:\\github\\eye-disease-classification\\eyediseaseclassification\\venv\\lib\\site-packages (0.20.3)\n",
      "Requirement already satisfied: scikit-learn==1.3.2 in c:\\github\\eye-disease-classification\\eyediseaseclassification\\venv\\lib\\site-packages (1.3.2)\n",
      "Requirement already satisfied: numpy<2.0,>=1.17.3 in c:\\github\\eye-disease-classification\\eyediseaseclassification\\venv\\lib\\site-packages (from scikit-learn==1.3.2) (1.26.3)\n",
      "Requirement already satisfied: scipy>=1.5.0 in c:\\github\\eye-disease-classification\\eyediseaseclassification\\venv\\lib\\site-packages (from scikit-learn==1.3.2) (1.11.4)\n",
      "Requirement already satisfied: joblib>=1.1.1 in c:\\github\\eye-disease-classification\\eyediseaseclassification\\venv\\lib\\site-packages (from scikit-learn==1.3.2) (1.3.2)\n",
      "Requirement already satisfied: threadpoolctl>=2.0.0 in c:\\github\\eye-disease-classification\\eyediseaseclassification\\venv\\lib\\site-packages (from scikit-learn==1.3.2) (3.2.0)\n",
      "Requirement already satisfied: tensorflow==2.15.0 in c:\\github\\eye-disease-classification\\eyediseaseclassification\\venv\\lib\\site-packages (2.15.0)\n",
      "Requirement already satisfied: tensorflow-intel==2.15.0 in c:\\github\\eye-disease-classification\\eyediseaseclassification\\venv\\lib\\site-packages (from tensorflow==2.15.0) (2.15.0)\n",
      "Requirement already satisfied: absl-py>=1.0.0 in c:\\github\\eye-disease-classification\\eyediseaseclassification\\venv\\lib\\site-packages (from tensorflow-intel==2.15.0->tensorflow==2.15.0) (2.0.0)\n",
      "Requirement already satisfied: astunparse>=1.6.0 in c:\\github\\eye-disease-classification\\eyediseaseclassification\\venv\\lib\\site-packages (from tensorflow-intel==2.15.0->tensorflow==2.15.0) (1.6.3)\n",
      "Requirement already satisfied: flatbuffers>=23.5.26 in c:\\github\\eye-disease-classification\\eyediseaseclassification\\venv\\lib\\site-packages (from tensorflow-intel==2.15.0->tensorflow==2.15.0) (23.5.26)\n",
      "Requirement already satisfied: gast!=0.5.0,!=0.5.1,!=0.5.2,>=0.2.1 in c:\\github\\eye-disease-classification\\eyediseaseclassification\\venv\\lib\\site-packages (from tensorflow-intel==2.15.0->tensorflow==2.15.0) (0.5.4)\n",
      "Requirement already satisfied: google-pasta>=0.1.1 in c:\\github\\eye-disease-classification\\eyediseaseclassification\\venv\\lib\\site-packages (from tensorflow-intel==2.15.0->tensorflow==2.15.0) (0.2.0)\n",
      "Requirement already satisfied: h5py>=2.9.0 in c:\\github\\eye-disease-classification\\eyediseaseclassification\\venv\\lib\\site-packages (from tensorflow-intel==2.15.0->tensorflow==2.15.0) (3.10.0)\n",
      "Requirement already satisfied: libclang>=13.0.0 in c:\\github\\eye-disease-classification\\eyediseaseclassification\\venv\\lib\\site-packages (from tensorflow-intel==2.15.0->tensorflow==2.15.0) (16.0.6)\n",
      "Requirement already satisfied: ml-dtypes~=0.2.0 in c:\\github\\eye-disease-classification\\eyediseaseclassification\\venv\\lib\\site-packages (from tensorflow-intel==2.15.0->tensorflow==2.15.0) (0.2.0)\n",
      "Requirement already satisfied: numpy<2.0.0,>=1.23.5 in c:\\github\\eye-disease-classification\\eyediseaseclassification\\venv\\lib\\site-packages (from tensorflow-intel==2.15.0->tensorflow==2.15.0) (1.26.3)\n",
      "Requirement already satisfied: opt-einsum>=2.3.2 in c:\\github\\eye-disease-classification\\eyediseaseclassification\\venv\\lib\\site-packages (from tensorflow-intel==2.15.0->tensorflow==2.15.0) (3.3.0)\n",
      "Requirement already satisfied: packaging in c:\\github\\eye-disease-classification\\eyediseaseclassification\\venv\\lib\\site-packages (from tensorflow-intel==2.15.0->tensorflow==2.15.0) (23.2)\n",
      "Requirement already satisfied: protobuf!=4.21.0,!=4.21.1,!=4.21.2,!=4.21.3,!=4.21.4,!=4.21.5,<5.0.0dev,>=3.20.3 in c:\\github\\eye-disease-classification\\eyediseaseclassification\\venv\\lib\\site-packages (from tensorflow-intel==2.15.0->tensorflow==2.15.0) (4.23.4)\n",
      "Requirement already satisfied: setuptools in c:\\github\\eye-disease-classification\\eyediseaseclassification\\venv\\lib\\site-packages (from tensorflow-intel==2.15.0->tensorflow==2.15.0) (68.2.0)\n",
      "Requirement already satisfied: six>=1.12.0 in c:\\github\\eye-disease-classification\\eyediseaseclassification\\venv\\lib\\site-packages (from tensorflow-intel==2.15.0->tensorflow==2.15.0) (1.16.0)\n",
      "Requirement already satisfied: termcolor>=1.1.0 in c:\\github\\eye-disease-classification\\eyediseaseclassification\\venv\\lib\\site-packages (from tensorflow-intel==2.15.0->tensorflow==2.15.0) (2.4.0)\n",
      "Requirement already satisfied: typing-extensions>=3.6.6 in c:\\github\\eye-disease-classification\\eyediseaseclassification\\venv\\lib\\site-packages (from tensorflow-intel==2.15.0->tensorflow==2.15.0) (4.9.0)\n",
      "Requirement already satisfied: wrapt<1.15,>=1.11.0 in c:\\github\\eye-disease-classification\\eyediseaseclassification\\venv\\lib\\site-packages (from tensorflow-intel==2.15.0->tensorflow==2.15.0) (1.14.1)\n",
      "Requirement already satisfied: tensorflow-io-gcs-filesystem>=0.23.1 in c:\\github\\eye-disease-classification\\eyediseaseclassification\\venv\\lib\\site-packages (from tensorflow-intel==2.15.0->tensorflow==2.15.0) (0.31.0)\n",
      "Requirement already satisfied: grpcio<2.0,>=1.24.3 in c:\\github\\eye-disease-classification\\eyediseaseclassification\\venv\\lib\\site-packages (from tensorflow-intel==2.15.0->tensorflow==2.15.0) (1.60.0)\n",
      "Requirement already satisfied: tensorboard<2.16,>=2.15 in c:\\github\\eye-disease-classification\\eyediseaseclassification\\venv\\lib\\site-packages (from tensorflow-intel==2.15.0->tensorflow==2.15.0) (2.15.1)\n",
      "Requirement already satisfied: tensorflow-estimator<2.16,>=2.15.0 in c:\\github\\eye-disease-classification\\eyediseaseclassification\\venv\\lib\\site-packages (from tensorflow-intel==2.15.0->tensorflow==2.15.0) (2.15.0)\n",
      "Requirement already satisfied: keras<2.16,>=2.15.0 in c:\\github\\eye-disease-classification\\eyediseaseclassification\\venv\\lib\\site-packages (from tensorflow-intel==2.15.0->tensorflow==2.15.0) (2.15.0)\n",
      "Requirement already satisfied: wheel<1.0,>=0.23.0 in c:\\github\\eye-disease-classification\\eyediseaseclassification\\venv\\lib\\site-packages (from astunparse>=1.6.0->tensorflow-intel==2.15.0->tensorflow==2.15.0) (0.41.2)\n",
      "Requirement already satisfied: google-auth<3,>=1.6.3 in c:\\github\\eye-disease-classification\\eyediseaseclassification\\venv\\lib\\site-packages (from tensorboard<2.16,>=2.15->tensorflow-intel==2.15.0->tensorflow==2.15.0) (2.26.1)\n",
      "Requirement already satisfied: google-auth-oauthlib<2,>=0.5 in c:\\github\\eye-disease-classification\\eyediseaseclassification\\venv\\lib\\site-packages (from tensorboard<2.16,>=2.15->tensorflow-intel==2.15.0->tensorflow==2.15.0) (1.2.0)\n",
      "Requirement already satisfied: markdown>=2.6.8 in c:\\github\\eye-disease-classification\\eyediseaseclassification\\venv\\lib\\site-packages (from tensorboard<2.16,>=2.15->tensorflow-intel==2.15.0->tensorflow==2.15.0) (3.5.1)\n",
      "Requirement already satisfied: requests<3,>=2.21.0 in c:\\github\\eye-disease-classification\\eyediseaseclassification\\venv\\lib\\site-packages (from tensorboard<2.16,>=2.15->tensorflow-intel==2.15.0->tensorflow==2.15.0) (2.31.0)\n",
      "Requirement already satisfied: tensorboard-data-server<0.8.0,>=0.7.0 in c:\\github\\eye-disease-classification\\eyediseaseclassification\\venv\\lib\\site-packages (from tensorboard<2.16,>=2.15->tensorflow-intel==2.15.0->tensorflow==2.15.0) (0.7.2)\n",
      "Requirement already satisfied: werkzeug>=1.0.1 in c:\\github\\eye-disease-classification\\eyediseaseclassification\\venv\\lib\\site-packages (from tensorboard<2.16,>=2.15->tensorflow-intel==2.15.0->tensorflow==2.15.0) (3.0.1)\n",
      "Requirement already satisfied: cachetools<6.0,>=2.0.0 in c:\\github\\eye-disease-classification\\eyediseaseclassification\\venv\\lib\\site-packages (from google-auth<3,>=1.6.3->tensorboard<2.16,>=2.15->tensorflow-intel==2.15.0->tensorflow==2.15.0) (5.3.2)\n",
      "Requirement already satisfied: pyasn1-modules>=0.2.1 in c:\\github\\eye-disease-classification\\eyediseaseclassification\\venv\\lib\\site-packages (from google-auth<3,>=1.6.3->tensorboard<2.16,>=2.15->tensorflow-intel==2.15.0->tensorflow==2.15.0) (0.3.0)\n",
      "Requirement already satisfied: rsa<5,>=3.1.4 in c:\\github\\eye-disease-classification\\eyediseaseclassification\\venv\\lib\\site-packages (from google-auth<3,>=1.6.3->tensorboard<2.16,>=2.15->tensorflow-intel==2.15.0->tensorflow==2.15.0) (4.9)\n",
      "Requirement already satisfied: requests-oauthlib>=0.7.0 in c:\\github\\eye-disease-classification\\eyediseaseclassification\\venv\\lib\\site-packages (from google-auth-oauthlib<2,>=0.5->tensorboard<2.16,>=2.15->tensorflow-intel==2.15.0->tensorflow==2.15.0) (1.3.1)\n",
      "Requirement already satisfied: charset-normalizer<4,>=2 in c:\\github\\eye-disease-classification\\eyediseaseclassification\\venv\\lib\\site-packages (from requests<3,>=2.21.0->tensorboard<2.16,>=2.15->tensorflow-intel==2.15.0->tensorflow==2.15.0) (3.3.2)\n",
      "Requirement already satisfied: idna<4,>=2.5 in c:\\github\\eye-disease-classification\\eyediseaseclassification\\venv\\lib\\site-packages (from requests<3,>=2.21.0->tensorboard<2.16,>=2.15->tensorflow-intel==2.15.0->tensorflow==2.15.0) (3.6)\n",
      "Requirement already satisfied: urllib3<3,>=1.21.1 in c:\\github\\eye-disease-classification\\eyediseaseclassification\\venv\\lib\\site-packages (from requests<3,>=2.21.0->tensorboard<2.16,>=2.15->tensorflow-intel==2.15.0->tensorflow==2.15.0) (2.1.0)\n",
      "Requirement already satisfied: certifi>=2017.4.17 in c:\\github\\eye-disease-classification\\eyediseaseclassification\\venv\\lib\\site-packages (from requests<3,>=2.21.0->tensorboard<2.16,>=2.15->tensorflow-intel==2.15.0->tensorflow==2.15.0) (2023.11.17)\n",
      "Requirement already satisfied: MarkupSafe>=2.1.1 in c:\\github\\eye-disease-classification\\eyediseaseclassification\\venv\\lib\\site-packages (from werkzeug>=1.0.1->tensorboard<2.16,>=2.15->tensorflow-intel==2.15.0->tensorflow==2.15.0) (2.1.3)\n",
      "Requirement already satisfied: pyasn1<0.6.0,>=0.4.6 in c:\\github\\eye-disease-classification\\eyediseaseclassification\\venv\\lib\\site-packages (from pyasn1-modules>=0.2.1->google-auth<3,>=1.6.3->tensorboard<2.16,>=2.15->tensorflow-intel==2.15.0->tensorflow==2.15.0) (0.5.1)\n",
      "Requirement already satisfied: oauthlib>=3.0.0 in c:\\github\\eye-disease-classification\\eyediseaseclassification\\venv\\lib\\site-packages (from requests-oauthlib>=0.7.0->google-auth-oauthlib<2,>=0.5->tensorboard<2.16,>=2.15->tensorflow-intel==2.15.0->tensorflow==2.15.0) (3.2.2)\n"
     ]
    }
   ],
   "source": [
    "'''\n",
    "Package Installs\n",
    "'''\n",
    "!python.exe -m pip install --upgrade pip\n",
    "\n",
    "!pip install numpy==1.26.3\n",
    "!pip install matplotlib==3.8.2\n",
    "!pip install seaborn==0.13.1\n",
    "!pip install polars==0.20.3\n",
    "!pip install scikit-learn==1.3.2\n",
    "!pip install tensorflow==2.15.0\n"
   ],
   "metadata": {
    "collapsed": false,
    "ExecuteTime": {
     "end_time": "2024-01-08T20:51:48.166395Z",
     "start_time": "2024-01-08T20:51:36.258392500Z"
    }
   },
   "id": "ad69cadef9718765",
   "execution_count": 1
  },
  {
   "cell_type": "markdown",
   "source": [
    "# Imports"
   ],
   "metadata": {
    "collapsed": false
   },
   "id": "68c1ebadaac35dcd"
  },
  {
   "cell_type": "code",
   "outputs": [
    {
     "name": "stdout",
     "output_type": "stream",
     "text": [
      "WARNING:tensorflow:From C:\\GitHub\\eye-disease-classification\\EyeDiseaseClassification\\venv\\Lib\\site-packages\\keras\\src\\losses.py:2976: The name tf.losses.sparse_softmax_cross_entropy is deprecated. Please use tf.compat.v1.losses.sparse_softmax_cross_entropy instead.\n"
     ]
    }
   ],
   "source": [
    "import sys\n",
    "import warnings\n",
    "from typing import List\n",
    "\n",
    "import polars as pl\n",
    "import numpy as np\n",
    "import matplotlib.pyplot as plt\n",
    "import seaborn as sns\n",
    "\n",
    "# import Deep learning Libraries\n",
    "import tensorflow as tf\n",
    "from tensorflow import keras\n",
    "from tensorflow.keras.models import Sequential\n",
    "from tensorflow.keras.optimizers import Adam, Adamax\n",
    "from tensorflow.keras.metrics import categorical_crossentropy\n",
    "from tensorflow.keras.preprocessing.image import ImageDataGenerator\n",
    "from tensorflow.keras.layers import Conv2D, MaxPooling2D, Flatten, Dense, Activation, Dropout, BatchNormalization\n",
    "from tensorflow.keras import regularizers\n",
    "\n",
    "#Custom Python Libraries\n",
    "from utils.dataset_reader import load_eye_dataset, eye_dataset_to_dictionary"
   ],
   "metadata": {
    "collapsed": false,
    "ExecuteTime": {
     "end_time": "2024-01-08T20:51:51.181470600Z",
     "start_time": "2024-01-08T20:51:48.165396100Z"
    }
   },
   "id": "5aa8d99ffef390db",
   "execution_count": 2
  },
  {
   "cell_type": "code",
   "outputs": [
    {
     "name": "stdout",
     "output_type": "stream",
     "text": [
      "Python Version: 3.11.6 (tags/v3.11.6:8b6ee5b, Oct  2 2023, 14:57:12) [MSC v.1935 64 bit (AMD64)]\n",
      "Tensorflow Version: 2.15.0. Python 3.8 - 3.11 only is supported.\n"
     ]
    }
   ],
   "source": [
    "warnings.filterwarnings('ignore')\n",
    "sns.set_style('darkgrid')\n",
    "\n",
    "print(f'Python Version: {sys.version}')\n",
    "print(f'Tensorflow Version: {tf.__version__}. Python 3.8 - 3.11 only is supported.')"
   ],
   "metadata": {
    "collapsed": false,
    "ExecuteTime": {
     "end_time": "2024-01-08T20:51:51.188081400Z",
     "start_time": "2024-01-08T20:51:51.182473600Z"
    }
   },
   "id": "d9624db9114f9061",
   "execution_count": 3
  },
  {
   "cell_type": "markdown",
   "source": [
    "# Pre-Processing"
   ],
   "metadata": {
    "collapsed": false
   },
   "id": "27667cda8ad08fa"
  },
  {
   "cell_type": "code",
   "outputs": [
    {
     "data": {
      "text/plain": "shape: (10, 2)\n┌───────────────────────────────────┬─────────────┐\n│ image_path                        ┆ image-label │\n│ ---                               ┆ ---         │\n│ str                               ┆ str         │\n╞═══════════════════════════════════╪═════════════╡\n│ .\\datasets\\cataract\\0_left.jpg    ┆ cataract    │\n│ .\\datasets\\cataract\\103_left.jpg  ┆ cataract    │\n│ .\\datasets\\cataract\\1062_right.j… ┆ cataract    │\n│ .\\datasets\\cataract\\1083_left.jp… ┆ cataract    │\n│ …                                 ┆ …           │\n│ .\\datasets\\cataract\\1102_right.j… ┆ cataract    │\n│ .\\datasets\\cataract\\1115_left.jp… ┆ cataract    │\n│ .\\datasets\\cataract\\1126_right.j… ┆ cataract    │\n│ .\\datasets\\cataract\\112_right.jp… ┆ cataract    │\n└───────────────────────────────────┴─────────────┘",
      "text/html": "<div><style>\n.dataframe > thead > tr,\n.dataframe > tbody > tr {\n  text-align: right;\n  white-space: pre-wrap;\n}\n</style>\n<small>shape: (10, 2)</small><table border=\"1\" class=\"dataframe\"><thead><tr><th>image_path</th><th>image-label</th></tr><tr><td>str</td><td>str</td></tr></thead><tbody><tr><td>&quot;.\\datasets\\cat…</td><td>&quot;cataract&quot;</td></tr><tr><td>&quot;.\\datasets\\cat…</td><td>&quot;cataract&quot;</td></tr><tr><td>&quot;.\\datasets\\cat…</td><td>&quot;cataract&quot;</td></tr><tr><td>&quot;.\\datasets\\cat…</td><td>&quot;cataract&quot;</td></tr><tr><td>&quot;.\\datasets\\cat…</td><td>&quot;cataract&quot;</td></tr><tr><td>&quot;.\\datasets\\cat…</td><td>&quot;cataract&quot;</td></tr><tr><td>&quot;.\\datasets\\cat…</td><td>&quot;cataract&quot;</td></tr><tr><td>&quot;.\\datasets\\cat…</td><td>&quot;cataract&quot;</td></tr><tr><td>&quot;.\\datasets\\cat…</td><td>&quot;cataract&quot;</td></tr><tr><td>&quot;.\\datasets\\cat…</td><td>&quot;cataract&quot;</td></tr></tbody></table></div>"
     },
     "execution_count": 4,
     "metadata": {},
     "output_type": "execute_result"
    }
   ],
   "source": [
    "'''\n",
    "Load the file paths and there label into a Polars DataFrame\n",
    "'''\n",
    "eye_disease_list = load_eye_dataset(r'.\\datasets')\n",
    "eye_disease_data = eye_dataset_to_dictionary(eye_disease_list)\n",
    "\n",
    "eye_disease_df = pl.DataFrame(eye_disease_data)\n",
    "\n",
    "eye_disease_df.head(10)"
   ],
   "metadata": {
    "collapsed": false,
    "ExecuteTime": {
     "end_time": "2024-01-08T20:51:51.229916600Z",
     "start_time": "2024-01-08T20:51:51.186025500Z"
    }
   },
   "id": "8263301bd902a0d9",
   "execution_count": 4
  },
  {
   "cell_type": "code",
   "outputs": [],
   "source": [
    "'''\n",
    "Verify that all the data is loaded.\n",
    "'''\n",
    "\n",
    "cataract_count = eye_disease_df['image-label'].eq('cataract').sum()\n",
    "assert cataract_count == 1038, f'Expected 1038 images, got [{cataract_count}].'\n",
    "\n",
    "diabetic_retinopathy_count = eye_disease_df['image-label'].eq('diabetic_retinopathy').sum()\n",
    "assert diabetic_retinopathy_count == 1098, f'Expected 1098 images, got [{diabetic_retinopathy_count}].'\n",
    "\n",
    "glaucoma_count = eye_disease_df['image-label'].eq('glaucoma').sum()\n",
    "assert glaucoma_count == 1007, f'Expected 1007 images, got [{glaucoma_count}].'\n",
    "\n",
    "normal_count = eye_disease_df['image-label'].eq('normal').sum()\n",
    "assert normal_count == 1074, f'Expected 0 images, got[{normal_count}].'"
   ],
   "metadata": {
    "collapsed": false,
    "ExecuteTime": {
     "end_time": "2024-01-08T20:51:51.229916600Z",
     "start_time": "2024-01-08T20:51:51.211407Z"
    }
   },
   "id": "b621ba2c4a1a4932",
   "execution_count": 5
  },
  {
   "cell_type": "code",
   "outputs": [
    {
     "data": {
      "text/plain": "<Figure size 640x480 with 1 Axes>",
      "image/png": "[encoded data removed]"
     },
     "metadata": {},
     "output_type": "display_data"
    }
   ],
   "source": [
    "'''\n",
    "Visualize dataset distributions\n",
    "'''\n",
    "\n",
    "distribution_data = {\n",
    "    'categories': ['normal', 'diabetic_retinopathy', 'glaucoma', 'cataract'],\n",
    "    'counts': [normal_count, diabetic_retinopathy_count, glaucoma_count, cataract_count]\n",
    "}\n",
    "\n",
    "plt.pie(distribution_data['counts'], labels=distribution_data['categories'], autopct='%1.1f')\n",
    "plt.title('Categories distribution')\n",
    "plt.show()"
   ],
   "metadata": {
    "collapsed": false,
    "ExecuteTime": {
     "end_time": "2024-01-08T20:51:51.282045300Z",
     "start_time": "2024-01-08T20:51:51.215353700Z"
    }
   },
   "id": "aca72690d8f2f5f1",
   "execution_count": 6
  },
  {
   "cell_type": "markdown",
   "source": [
    "# Split Datasets"
   ],
   "metadata": {
    "collapsed": false
   },
   "id": "7661b4fce85b624b"
  },
  {
   "cell_type": "code",
   "outputs": [],
   "source": [],
   "metadata": {
    "collapsed": false,
    "ExecuteTime": {
     "end_time": "2024-01-08T20:51:51.283046700Z",
     "start_time": "2024-01-08T20:51:51.279461100Z"
    }
   },
   "id": "bb46264702960a85",
   "execution_count": 6
  },
  {
   "cell_type": "markdown",
   "source": [
    "# Model Building"
   ],
   "metadata": {
    "collapsed": false
   },
   "id": "de90f1d14d24be11"
  },
  {
   "cell_type": "code",
   "outputs": [],
   "source": [],
   "metadata": {
    "collapsed": false,
    "ExecuteTime": {
     "end_time": "2024-01-08T20:51:51.297108800Z",
     "start_time": "2024-01-08T20:51:51.283046700Z"
    }
   },
   "id": "1a73b87c4550a831",
   "execution_count": 6
  },
  {
   "cell_type": "markdown",
   "source": [
    "# Model Compiling"
   ],
   "metadata": {
    "collapsed": false
   },
   "id": "fad5f318b227aa39"
  },
  {
   "cell_type": "code",
   "outputs": [],
   "source": [],
   "metadata": {
    "collapsed": false,
    "ExecuteTime": {
     "end_time": "2024-01-08T20:51:51.297108800Z",
     "start_time": "2024-01-08T20:51:51.286254700Z"
    }
   },
   "id": "2f0b614c6645aab6",
   "execution_count": 6
  },
  {
   "cell_type": "markdown",
   "source": [
    "# Model Training"
   ],
   "metadata": {
    "collapsed": false
   },
   "id": "25b97dc0db3530bb"
  },
  {
   "cell_type": "code",
   "outputs": [],
   "source": [],
   "metadata": {
    "collapsed": false,
    "ExecuteTime": {
     "end_time": "2024-01-08T20:51:51.297108800Z",
     "start_time": "2024-01-08T20:51:51.288210100Z"
    }
   },
   "id": "89b71e17f9d89cbf",
   "execution_count": 6
  },
  {
   "cell_type": "markdown",
   "source": [
    "# Model Evaluation"
   ],
   "metadata": {
    "collapsed": false
   },
   "id": "8b24ad4d5cbab986"
  },
  {
   "cell_type": "code",
   "outputs": [],
   "source": [],
   "metadata": {
    "collapsed": false,
    "ExecuteTime": {
     "end_time": "2024-01-08T20:51:51.298128200Z",
     "start_time": "2024-01-08T20:51:51.291598400Z"
    }
   },
   "id": "c98be0a83e27afc4",
   "execution_count": 6
  }
 ],
 "metadata": {
  "kernelspec": {
   "display_name": "Python 3",
   "language": "python",
   "name": "python3"
  },
  "language_info": {
   "codemirror_mode": {
    "name": "ipython",
    "version": 2
   },
   "file_extension": ".py",
   "mimetype": "text/x-python",
   "name": "python",
   "nbconvert_exporter": "python",
   "pygments_lexer": "ipython2",
   "version": "2.7.6"
  }
 },
 "nbformat": 4,
 "nbformat_minor": 5
}
