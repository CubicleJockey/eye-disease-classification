{
 "cells": [
  {
   "cell_type": "markdown",
   "source": [
    "# Eye Disease Classification\n",
    "\n",
    "### Dataset (Folders are labels)\n",
    "\n",
    "dataset (main data-set folder)\n",
    "   ├───cataract\n",
    "   ├───diabetic_retinopathy\n",
    "   ├───glaucoma\n",
    "   └───normal (healthy)\n"
   ],
   "metadata": {
    "collapsed": false
   },
   "id": "ff8c2093c4d4a46a"
  },
  {
   "cell_type": "markdown",
   "source": [
    "# Table of Contents"
   ],
   "metadata": {
    "collapsed": false
   },
   "id": "54423e9d0dc96e17"
  },
  {
   "cell_type": "code",
   "outputs": [],
   "source": [
    "'''\n",
    "Package Installs\n",
    "'''"
   ],
   "metadata": {
    "collapsed": false
   },
   "id": "ad69cadef9718765"
  },
  {
   "cell_type": "markdown",
   "source": [
    "# Imports"
   ],
   "metadata": {
    "collapsed": false
   },
   "id": "68c1ebadaac35dcd"
  },
  {
   "cell_type": "code",
   "outputs": [],
   "source": [],
   "metadata": {
    "collapsed": false,
    "ExecuteTime": {
     "end_time": "2024-01-08T08:54:52.392218200Z",
     "start_time": "2024-01-08T08:54:52.384520800Z"
    }
   },
   "id": "5aa8d99ffef390db",
   "execution_count": 0
  },
  {
   "cell_type": "markdown",
   "source": [
    "# Pre-Processing"
   ],
   "metadata": {
    "collapsed": false
   },
   "id": "27667cda8ad08fa"
  },
  {
   "cell_type": "code",
   "outputs": [],
   "source": [],
   "metadata": {
    "collapsed": false,
    "ExecuteTime": {
     "end_time": "2024-01-08T08:54:52.398903100Z",
     "start_time": "2024-01-08T08:54:52.391213100Z"
    }
   },
   "id": "8263301bd902a0d9",
   "execution_count": 0
  },
  {
   "cell_type": "markdown",
   "source": [
    "# Split Datasets"
   ],
   "metadata": {
    "collapsed": false
   },
   "id": "7661b4fce85b624b"
  },
  {
   "cell_type": "code",
   "outputs": [],
   "source": [],
   "metadata": {
    "collapsed": false,
    "ExecuteTime": {
     "end_time": "2024-01-08T08:54:52.406549700Z",
     "start_time": "2024-01-08T08:54:52.391213100Z"
    }
   },
   "id": "bb46264702960a85",
   "execution_count": 0
  },
  {
   "cell_type": "markdown",
   "source": [
    "# Model Building"
   ],
   "metadata": {
    "collapsed": false
   },
   "id": "de90f1d14d24be11"
  },
  {
   "cell_type": "code",
   "outputs": [],
   "source": [],
   "metadata": {
    "collapsed": false,
    "ExecuteTime": {
     "end_time": "2024-01-08T08:54:52.407549500Z",
     "start_time": "2024-01-08T08:54:52.392966500Z"
    }
   },
   "id": "1a73b87c4550a831",
   "execution_count": 0
  },
  {
   "cell_type": "markdown",
   "source": [
    "# Model Compiling"
   ],
   "metadata": {
    "collapsed": false
   },
   "id": "fad5f318b227aa39"
  },
  {
   "cell_type": "code",
   "outputs": [],
   "source": [],
   "metadata": {
    "collapsed": false,
    "ExecuteTime": {
     "end_time": "2024-01-08T08:54:52.407549500Z",
     "start_time": "2024-01-08T08:54:52.395475700Z"
    }
   },
   "id": "2f0b614c6645aab6",
   "execution_count": 0
  },
  {
   "cell_type": "markdown",
   "source": [
    "# Model Training"
   ],
   "metadata": {
    "collapsed": false
   },
   "id": "25b97dc0db3530bb"
  },
  {
   "cell_type": "code",
   "outputs": [],
   "source": [],
   "metadata": {
    "collapsed": false,
    "ExecuteTime": {
     "end_time": "2024-01-08T08:54:52.407549500Z",
     "start_time": "2024-01-08T08:54:52.398042600Z"
    }
   },
   "id": "89b71e17f9d89cbf",
   "execution_count": 0
  },
  {
   "cell_type": "markdown",
   "source": [
    "# Model Evaluation"
   ],
   "metadata": {
    "collapsed": false
   },
   "id": "8b24ad4d5cbab986"
  },
  {
   "cell_type": "code",
   "outputs": [],
   "source": [],
   "metadata": {
    "collapsed": false,
    "ExecuteTime": {
     "end_time": "2024-01-08T08:54:52.408549900Z",
     "start_time": "2024-01-08T08:54:52.399913900Z"
    }
   },
   "id": "c98be0a83e27afc4",
   "execution_count": 0
  }
 ],
 "metadata": {
  "kernelspec": {
   "display_name": "Python 3",
   "language": "python",
   "name": "python3"
  },
  "language_info": {
   "codemirror_mode": {
    "name": "ipython",
    "version": 2
   },
   "file_extension": ".py",
   "mimetype": "text/x-python",
   "name": "python",
   "nbconvert_exporter": "python",
   "pygments_lexer": "ipython2",
   "version": "2.7.6"
  }
 },
 "nbformat": 4,
 "nbformat_minor": 5
}
